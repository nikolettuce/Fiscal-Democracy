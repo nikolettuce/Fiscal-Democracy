{
 "cells": [
  {
   "cell_type": "markdown",
   "metadata": {},
   "source": [
    "# Data Parsing (Summaries)"
   ]
  },
  {
   "cell_type": "code",
   "execution_count": 12,
   "metadata": {},
   "outputs": [],
   "source": [
    "# standard imports, add as needed\n",
    "import pandas as pd\n",
    "import numpy as np\n",
    "import os\n",
    "import re"
   ]
  },
  {
   "cell_type": "code",
   "execution_count": 13,
   "metadata": {},
   "outputs": [],
   "source": [
    "# Gets file directory list, removes all duplicates in directory\n",
    "filedir = os.listdir('Data')\n",
    "filedir = [file for file in filedir if (\n",
    "    ('(1)' and 'copy' not in file) and (file[-3:] == 'txt'))\n",
    "]"
   ]
  },
  {
   "cell_type": "code",
   "execution_count": 14,
   "metadata": {},
   "outputs": [],
   "source": [
    "r = re.compile(\"2017-Tulare-Woodlake-S-All\\.txt\")\n",
    "newlist = list(filter(r.match, filedir)) # Read Note\n",
    "string = ''\n",
    "fp = os.path.join('Data', newlist[0])\n",
    "with open(fp, 'r') as file:\n",
    "    for line in file:\n",
    "        string +=  line\n",
    "    file.close()"
   ]
  },
  {
   "cell_type": "code",
   "execution_count": 15,
   "metadata": {},
   "outputs": [],
   "source": [
    "#pattern_1 = r'(?i)(?=.*\\b(Measure|Impartial|Analysis|Counsel|Auditors))(?=.*(County|Counsel|Analysis|Measure)).*?(\\n){2}'\n",
    "#pattern = r'(?i)\\w*(COUNSEL|IMPARTIAL|MEASURE).+(ANALYSIS)\\w*'\n",
    "pattern = r'(?i)(?=\\b(Measure|Impartial|Analysis|Counsel|Auditor)\\b).*?(?=\\b(Counsel|Analysis)\\b)\\w*'"
   ]
  },
  {
   "cell_type": "code",
   "execution_count": 16,
   "metadata": {},
   "outputs": [],
   "source": [
    "from random import sample"
   ]
  },
  {
   "cell_type": "code",
   "execution_count": 17,
   "metadata": {},
   "outputs": [],
   "source": [
    "# Take sample of 10 and try to match the regex\n",
    "tester_list = sample(filedir, 10)"
   ]
  },
  {
   "cell_type": "code",
   "execution_count": 18,
   "metadata": {},
   "outputs": [],
   "source": [
    "match = []\n",
    "for ballot in filedir:\n",
    "    # read file\n",
    "    fp = os.path.join('Data', ballot)\n",
    "    file = open(fp, 'r')\n",
    "    ballot_text = file.read()\n",
    "    \n",
    "    # use regex to match the first instance of regex, then read the next 500 words.\n",
    "    regex_match = re.search(pattern, ballot_text)\n",
    "    \n",
    "    # if regex matched\n",
    "    if regex_match:\n",
    "        ballot_text = ballot_text[regex_match.end():]\n",
    "        # cleaning text\n",
    "        for char in ['-','\\n']:\n",
    "            ballot_text = ballot_text.replace(char,' ')\n",
    "            \n",
    "        ballot_split = ballot_text.split()\n",
    "        # debugger, ignore : print(ballot + \" is this long: \" + str(len(ballot_split)))\n",
    "        # Some matches won't have 500 characters following\n",
    "        \n",
    "        ballot_arg_for = \"empty\"\n",
    "        ballot_arg_against = \"empty\"\n",
    "        \n",
    "        if len(ballot_split) <= 500:\n",
    "            ballot_processed = \" \".join(ballot_split[:(len(ballot_split) - 1)])\n",
    "        if 500 <= len(ballot_split) <= 825:\n",
    "            ballot_processed = \" \".join(ballot_split[:500])\n",
    "            ballot_arg_for = \" \".join(ballot_split[500:825])\n",
    "        if len(ballot_split) > 825:\n",
    "            ballot_processed = \" \".join(ballot_split[:500])\n",
    "            ballot_arg_for = \" \".join(ballot_split[500:825])\n",
    "            ballot_arg_against = \" \".join(ballot_split[825: 1125])\n",
    "        else:\n",
    "            ballot_processed = \" \".join(ballot_split[:500])\n",
    "        \n",
    "        # add to list\n",
    "        match.append((ballot, ballot_processed, ballot_arg_for, ballot_arg_against))\n",
    "    else:\n",
    "        match.append((ballot, 'NO MATCH'))\n",
    "    file.close()"
   ]
  },
  {
   "cell_type": "code",
   "execution_count": 19,
   "metadata": {},
   "outputs": [
    {
     "name": "stdout",
     "output_type": "stream",
     "text": [
      "We matched 79.10787437414656% of the docs!\n"
     ]
    }
   ],
   "source": [
    "pct_matched = len([i for i in match if i[1] != 'NO MATCH'])/len(match)\n",
    "print('We matched ' + str(pct_matched*100) + \"% of the docs!\")"
   ]
  },
  {
   "cell_type": "code",
   "execution_count": 20,
   "metadata": {},
   "outputs": [
    {
     "data": {
      "text/plain": [
       "['2016-Solano-A-All.txt',\n",
       " '2017-Sonoma-WilmarUnionSchoolDistrict-F-All.txt',\n",
       " '2006-SanMateo-MenloPark-K-Ord.txt',\n",
       " '2008-LosAngeles-U.txt',\n",
       " '2014-ContraCosta-ElCerrito-R-All.txt',\n",
       " '1986-SanDiego-SanDiego-A-All.txt',\n",
       " '2008-Humboldt-Arcata-G-SampleBallot.txt',\n",
       " '2014-SanLuisObispo-SanLuisObispo-G-All.txt',\n",
       " '2012-LosAngeles-Pomona-X-Ordtext.txt',\n",
       " '1994-Alameda-AlbanyUSD-A-SampleBallot.txt']"
      ]
     },
     "execution_count": 20,
     "metadata": {},
     "output_type": "execute_result"
    }
   ],
   "source": [
    "tester_list"
   ]
  },
  {
   "cell_type": "code",
   "execution_count": null,
   "metadata": {},
   "outputs": [],
   "source": [
    "# filter our sample ballot files\n"
   ]
  },
  {
   "cell_type": "code",
   "execution_count": 21,
   "metadata": {},
   "outputs": [],
   "source": [
    "pattern_arg_for = r'(?i)((?!.*?(REBUTTAL).*?)(?=.*\\b(ARGUMENT))(?=.*(FAVOR|FOR)).*)'\n",
    "\n",
    "match_args = []\n",
    "for ballot in tester_list:\n",
    "    # read file\n",
    "    fp = os.path.join('Data', ballot)\n",
    "    file = open(fp, 'r')\n",
    "    ballot_text = file.read()\n",
    "    \n",
    "    # use regex to match the first instance of regex, then read the next 300 words.\n",
    "    regex_match = re.search(pattern_arg_for, ballot_text)\n",
    "    \n",
    "    # if regex matched\n",
    "    if regex_match:\n",
    "        ballot_text = ballot_text[regex_match.end():]\n",
    "        # cleaning text\n",
    "        for char in ['-','\\n']:\n",
    "            ballot_text = ballot_text.replace(char,' ')\n",
    "            \n",
    "        ballot_split = ballot_text.split()\n",
    "        # debugger, ignore : print(ballot + \" is this long: \" + str(len(ballot_split)))\n",
    "        # Some matches won't have 500 characters following\n",
    "        \n",
    "        if len(ballot_split) <= 300:\n",
    "            ballot_processed = \" \".join(ballot_split[:(len(ballot_split) - 1)])\n",
    "        else:\n",
    "            ballot_processed = \" \".join(ballot_split[:300])\n",
    "        \n",
    "        # add to list\n",
    "        match_args.append((ballot, ballot_processed))\n",
    "    else:\n",
    "        match_args.append((ballot, 'NO MATCH'))\n",
    "    file.close()"
   ]
  },
  {
   "cell_type": "code",
   "execution_count": 22,
   "metadata": {},
   "outputs": [
    {
     "data": {
      "text/plain": [
       "[('2016-Solano-A-All.txt',\n",
       "  'Parents, community members and professionals all agree children and families in Solano County do not get the support that children in other counties rely on. This is a major barrier to our children\\'s success in school and in life. Our children deserve better! Two measures on this ballot will create and fund the Solano Fund for Children and invest in preventative programs that will fill some of the gaps confronting local children and their families. Measure A will impose a % cent sales tax throughout the county, raising an estimated 16.8 million dollars per year for ten years. Measure B assures that all Measure A revenues will go entirely to the Solano Fund for Children to serve only Solano children and their families. Money from the Fund will be spent on: • Homeless Children • Prevention of Child Abuse • Quality Preschool and Afterschool Programs • Preventative Child Health Care • Jobs for Youth Solano does not get its fair share of state and federal funding for children’s services, and gets almost no private foundation funds at all to support children. If we want to compete with the rest of the region, we have to support our own children by creating the Solano Fund for Children. It is what responsible citizens and caring adults must do. We will make sure that the funds are spent responsibly, efficiently and as promised. This measure includes strict accountability provisions including a citizen’s oversight committee, annual audits and public reporting of all expenditures. We can make sure that every child in our community has the opportunity to succeed, and remember, both measures must pass to assure the creation and funding of the Solano Fund for Children. Join us and Vote \"Yes\" on Measure A and \"Yes\" on Measure B! /s/James W (Jay) Speck, Solano'),\n",
       " ('2017-Sonoma-WilmarUnionSchoolDistrict-F-All.txt',\n",
       "  'Having a quality school in your neighborhood, like Wilson Elementary (Wilmar District), helps the students and improves the safety of the area. It also enhances the value of your home. The funds from our previous parcel tax, which has recently expired, provided enrichment similar to those proposed in this measure. Having the parcel tax in place assures a strong and well rounded education for all stu dents. Funds raised by this local tax will be used to provide direct support to Wilson students and will protect and enhance their educational opportunities. If passed, Measure F will provide funds that the State cannot take away and will improve Wilson Elementary by: maintaining small class sizes; protecting academic excellence; keeping Vocal and instrumental music and arts; maintaining student counseling services; supporting current technology and supporting our library. Measure F makes financial sense and protects taxpayers. This measure will only cost each parcel $65 annually (less than $5.42 per month). By law, all funds must be spent locally and cannot be taken by the State. Measure F provides an exemption for any parcel owned and occupied by a person 65 years of age or older. Spending will be reviewed and annual accounting will be provided. This measure lasts for only 8 years. Our children need your Yes vote on Measure F! If successful, Measure F will pro vide a stable source of local funds to offset the uncertainty of state funding. With the kind of support provided by the funds from Measure F, our students can be come well rounded and responsible members of the Petaluma community. Measure F maintains academic excellence, improves the educational experience of local students, and maintains the quality of our community. Please vote Yes on Measure F! si John P. Praetzel si Jane S. Singleton Treasurer, Wilmar V.'),\n",
       " ('2006-SanMateo-MenloPark-K-Ord.txt', 'NO MATCH'),\n",
       " ('2008-LosAngeles-U.txt',\n",
       "  'PERCENT UTILITY USER TAX REDUCTION AND UPDATE Since 1991, residents of the unincorporated area of Los Angeles County have paid a 5% Utility User Tax on electric, gas and telecommunication services. Los Angeles County uses this funding to provide essential services like Sheriff deputies, health care, park and library operations, street repairs and other general fund services. Technology has changed since 1991, and the tax ordinance language is outdated. To keep pace with the advances in technology, this measure will modernize the Utility User Tax language. Updating the ordinance language allows the tax to be reduced from 5 percent to 4.5% (a ten percent reduction) because all taxpayers will be treated equally regardless of the technology they use, today and in the future. NO INTERNET SERVICES WILL BE TAXED, including such items as browsers, search engines and email or digital downloads such as books, music, ringtones, games, and similar digital products under the updated ordinance. The exemption from the Utility User Tax for low income senior citizens of the unincorporated area will continue, and the County will verify, on an annual basis through a qualified independent third party, that the Utility User Taxes have been properly applied, exempted, collected and expended. Without the Utility User Tax the County would either have to reduce services or raise other revenue. Reduce and update the Utility User Tax to continue essential services provided by the County. Vote “Yes” on Measure U. <favorend> <favorsigs> YVONNE B. BURKE, Chair 2nd District, Supervisor GLORIA MOLINA 1st District Supervisor LEROY D. BACA Sheriff RUSS GUINEY Director, Parks and Recreation JOSEPH A. CISLOWSKI, Chair Library Commission, County of Los Angeles Public Library <favorsigsend> <against> ARGUMENT AGAINST MEASURE U The utility tax proposed by the Los Angeles County Board of Supervisors will result in a tax increase for the'),\n",
       " ('2014-ContraCosta-ElCerrito-R-All.txt',\n",
       "  'MEASURE R FULL TEXT OF MEASURE R ORDINANCE NO. 2014 XX AN ORDINANCE OF THE CITY OF EL CERRITO AMENDING AND RESTATING CHAPTER 4.62 OF THE MUNICIPAL CODE TO EXTEND AND INCREASE AT THE ONE CENT RATE A TRANSACTIONS AND USE TAX TO BE ADMINISTERED BY THE STATE BOARD OF EQUALIZATION WHEREAS, the State began shifting property tax from local governments in 1992 and these “takes” continue, including about $1.8 million annually from El Cerrito from a portion of the City’s property tax to the Educational Revenue Augmentation Fund that could otherwise be used for essential City services; and WHEREAS, since 1993, El Cerrito has been required by State legislation to pay for booking fees and property tax administration, another loss of general fund revenues that would otherwise be available for essential City services; and WHEREAS, since 2003, the State has taken an additional $3 million of Redevelopment Agency funds that could have been spent on local projects such as a library, public safety building, senior center or economic development programs; and WHEREAS, the State has eliminated the City of El Cerrito Redevelopment Agency resulting in a loss of over $1 million annually to the City and greatly decreased the City’s ability to promote economic development and retail growth along San Pablo Avenue; and WHEREAS, the recession, continued State takeaways, falling home values, store relocations and strained revenues could erode the high quality of service in the City of El Cerrito and the accomplishments that have taken years to develop; and WHEREAS, El Cerrito has seen a reduction in sales tax revenue resulting from the closure of the Target Store, the Mitsubishi car dealership, the Guitar Center and OSH and an overall decline in consumer spending; and WHEREAS, the City has already made cuts and reductions to balance the FY'),\n",
       " ('1986-SanDiego-SanDiego-A-All.txt',\n",
       "  'YES ON A More than 2,000 criminate — drug addicts, drug pushers, prowlers, prostitutes, vandals and drunk drivers — are arrested and then turned loose each month because our jails and courts are jammed, Many are back on the streets even before the arresting officer has completed the necessary reports. Our streets have become our jails! This crisis threatens the safety of every man, woman and child and we need action. \"I\\'ve seen what they turn loose from the jails,” says Norma Phillips, President of Mothers Against Drunk Driving. “It\\'s scary!” Proposition A is the help we need. It would add a half cent to our sales tax for only five years and raise $400 million to build additional jails and courts. The revenue raised could only be used to provide facilities. This tax could not be extended beyond five years without another 2/3 vote of the electorate. Furthermore, if more state or federal funds for jails and courts become available, the tax will end sooner. Why use a sales tax? Because it’s fair to Mi and it’s smart for taxpayers. The jails and courts would be paid for without burdening our children and grandchildren with debt. Proposition A is a grass roots campaign supported by a broad coalition including: organizations such as MADD, Greater San Diego Chamber of Commerce, Neighborhood Watch groups, the media, police chiefs in every city in our county, school leaders, the clergy, and community leaders county wide. San Diego County is in a race against \\'time and crime which we cannot afford to lose. Let’s get criminals off our streets and provide speedy trials. Protect your neighborhoods and the public safety. Vote Yes on A — to slam the door on crime in San Diego County! TAXPAYERS AGAINST CRIME <favorend> <favorsigs> Clair Burgener Former Congressman'),\n",
       " ('2008-Humboldt-Arcata-G-SampleBallot.txt',\n",
       "  'A YES vote is a Community Working Together to invest in Arcata’s future to fund critical and essential community services to make Areata a better and safer place to live. These additional sales tax revenues are important to the City of Areata when you consider that just a fraction of a penny on the dollar will support: • Filling potholes, maintaining, and repairing city streets, • Increasing police staffing to improve downtown, Plaza, Valley West, city forest, and park safety, • Improving pedestrian and bicycle safety, • Enhancing community and neighborhood safety, • Providing safer sidewalks, pathways to schools, bicycle lanes and wheelchair access, Consistent with Arcata’s small town values, a Citizens’ Oversight Committee will be established to conduct annual audits of all expenditures to ensure fiscal accountability and public participation. State Government continues to take money from cities and counties to fund State programs and budget deficits. The proposed Sales Tax is the one way the City is able to replace those lost revenues to fund many of our essential services. Please help keep Areata a vibrant, safe and healthy place to live, work and raise our families. Vote YES on Measure “G.” Isl Mark E.Wheetley, Mayor Isl Jonathan Speaker, Business Owner Isl Earl Moranda, Former Areata Police Officer, APD Volunteer Is/ Chris Rail, Executive Director, Greenwheels Isl Alan Sanborn, Artist \\\\ NO ARGUMENT AGAINST THIS MEASURE WAS SUBMITTED 12'),\n",
       " ('2014-SanLuisObispo-SanLuisObispo-G-All.txt',\n",
       "  \"Approving Measure G would renew the half percent sales tax that has paid for essential improvements in city services since San Luis Obispo voters overwhelmingly approved it in 2006. This revenue has been crucial in preserving and enhancing the quality of life in our city. Measure G will keep San Luis Obispo moving in the right direction, and we urge you to vote Yes. Measure G does not increase taxes. It simply renews a tax that voters overwhelmingly approved in 2006. In all, the half percent tax has generated about $6.5 million a year, equal to 12% of the city's operating budget. Importantly, about 72% of the tax has been paid by visitors, not by residents. We believe city officials have been responsive to residents’ needs and priorities, and have invested wisely. The revenue has enabled the city to fix potholes and resurface streets; to acquire open space and improve public parks; to increase and improve bike lanes, and to add police officers to enhance safety downtown and reduce noise in neighborhoods. Annual audits have verified these facts. And for greater accountability, City Council said the tax should be put to voters for re approval after eight years. That time has come. Renewal will reinforce the city’s financial stability, and, importantly, these tax dollars will remain under local control. Additionally, a special citizens’ oversight commission will be created to monitor future spending and ensure that the revenue will continue to support essential services, such as police and fire protection, senior programs, park maintenance, street repair and open space acquisition. As parents and grandparents, as environmentalists and business owners, as concerned citizens and as your neighbors, we enthusiastically support renewal of this half percent sales tax for another eight years. We strongly urge you to vote Yes on Measure G. si\"),\n",
       " ('2012-LosAngeles-Pomona-X-Ordtext.txt',\n",
       "  'and against the ballot measure, and additional rebuttal arguments pursuant to Elections Code section 9317. Direct arguments shall not exceed three hundred words and shall be signed by not more than five persons. b. Pursuant to Elections Code section 9317, when the City Clerk has selected the arguments for and against the ballot measure, which will be printed and distributed to the voters, the City Clerk shall send copies of the argument in favor of the ballot measure to the authors, if any, of the arguments against, and copies of the argument against the ballot measure to the authors, if any, of the arguments in favor. Rebuttal arguments shall be printed in the same manner as the direct arguments. Each rebuttal argument shall immediately follow the direct argument, which it seeks to rebut. c. The City Attorney shall prepare an impartial analysis of the ballot measure, not to exceed three hundred words, showing the effect of the measure on existing law and the operation of the ballot measure. SECTION 12. Placement on the Ballot. The City Clerk is hereby authorized and directed to take all steps necessary to place the ballot measure on the ballot and to cause the ballot measure to be printed and shall act as the filing authority for arguments. The full text of the Ballot Ordinance shall be printed in the voter pamphlet, and a statement shall be printed in the ballot pursuant to Section 9312 of the Elections Code advising voters that they may obtain a copy of this Resolution, the Ballot Ordinance and/or ballot measure, at no cost, upon request made to the City Clerk. SECTION 13. Notice. Notice of the time and place of holding the election is hereby given, and the City Clerk is authorized, instructed and directed to give such further'),\n",
       " ('1994-Alameda-AlbanyUSD-A-SampleBallot.txt',\n",
       "  'With no new cost to taxpayers, Measure A offers Albany a unique opportunity to solve its school facility problems for generations of children to come. Last year, Albany voters approved a $31.6 million bond for the rehabilitation of existing buildings and the construction of much needed classrooms. The classrooms needed, six elementary and eight middle school, were to be built on our present campuses. This plan was the best solution available at the time, but it meant an excessive burden on bathrooms, cafeterias, and libraries and drastically reduced play space. Recently, a superior alternative has emerged. The Hill Lumber property, the only available site in Albany where a new school could be built, is now for sale. A citizens’ committee has developed a plan to buy the property, build a middle school there and convert our present middle school to an elementary campus. If Albany voters pass Measure A, we will have three efficient and well equipped elementary schools located throughout our city. Improvements including rehabilitation, safety, and seismic repairs will still be made to Cornell, Marin and Albany High School. There will be no increase in cost over the amount voters approved in 1993. But that bond measure did not specifically authorize the use of funds to buy property, so it is necessary for voters to approve this modification. Measure A has the support of all members of the Albany City Council and the Albany Board of Education. Measure A is a win win proposition. Our children win with better, safer schools and we taxpayers win too. High quality schools sustain a vital community and contribute to increased property values. Your vote for Measure A will give us better value for money we have already agreed to spend. We strongly urge a YES vote on Measure A. s/Helen Laird,')]"
      ]
     },
     "execution_count": 22,
     "metadata": {},
     "output_type": "execute_result"
    }
   ],
   "source": [
    "match_args"
   ]
  },
  {
   "cell_type": "code",
   "execution_count": null,
   "metadata": {},
   "outputs": [],
   "source": []
  },
  {
   "cell_type": "code",
   "execution_count": null,
   "metadata": {},
   "outputs": [],
   "source": []
  }
 ],
 "metadata": {
  "kernelspec": {
   "display_name": "Python 3",
   "language": "python",
   "name": "python3"
  },
  "language_info": {
   "codemirror_mode": {
    "name": "ipython",
    "version": 3
   },
   "file_extension": ".py",
   "mimetype": "text/x-python",
   "name": "python",
   "nbconvert_exporter": "python",
   "pygments_lexer": "ipython3",
   "version": "3.7.3"
  }
 },
 "nbformat": 4,
 "nbformat_minor": 4
}
