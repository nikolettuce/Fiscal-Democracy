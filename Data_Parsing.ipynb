{
 "cells": [
  {
   "cell_type": "markdown",
   "metadata": {},
   "source": [
    "# Data Parsing (Summaries)"
   ]
  },
  {
   "cell_type": "code",
   "execution_count": 123,
   "metadata": {},
   "outputs": [],
   "source": [
    "# standard imports, add as needed\n",
    "import pandas as pd\n",
    "import numpy as np\n",
    "import os\n",
    "import re"
   ]
  },
  {
   "cell_type": "code",
   "execution_count": 138,
   "metadata": {},
   "outputs": [
    {
     "data": {
      "text/plain": [
       "2197"
      ]
     },
     "execution_count": 138,
     "metadata": {},
     "output_type": "execute_result"
    }
   ],
   "source": [
    "len(filedir)"
   ]
  },
  {
   "cell_type": "code",
   "execution_count": 139,
   "metadata": {},
   "outputs": [],
   "source": [
    "# Gets file directory list, removes all duplicates in directory\n",
    "filedir = os.listdir('Data')\n",
    "filedir = [file for file in filedir if (\n",
    "    ('(1)' and 'copy' not in file) and (file[-3:] == 'txt'))\n",
    "]"
   ]
  },
  {
   "cell_type": "code",
   "execution_count": 125,
   "metadata": {},
   "outputs": [],
   "source": [
    "r = re.compile(\"2017-Tulare-Woodlake-S-All\\.txt\")\n",
    "newlist = list(filter(r.match, filedir)) # Read Note\n",
    "string = ''\n",
    "fp = os.path.join('Data', newlist[0])\n",
    "with open(fp, 'r') as file:\n",
    "    for line in file:\n",
    "        string +=  line\n",
    "    file.close()"
   ]
  },
  {
   "cell_type": "code",
   "execution_count": 47,
   "metadata": {},
   "outputs": [],
   "source": [
    "#pattern_1 = r'(?i)(?=.*\\b(Measure|Impartial|Analysis|Counsel|Auditors))(?=.*(County|Counsel|Analysis|Measure)).*?(\\n){2}'\n",
    "#pattern = r'(?i)\\w*(COUNSEL|IMPARTIAL|MEASURE).+(ANALYSIS)\\w*'\n",
    "pattern = r'(?i)(?=\\b(Measure|Impartial|Analysis|Counsel|Auditor)\\b).*?(?=\\b(Counsel|Analysis)\\b)\\w*'"
   ]
  },
  {
   "cell_type": "code",
   "execution_count": 4,
   "metadata": {},
   "outputs": [],
   "source": [
    "from random import sample"
   ]
  },
  {
   "cell_type": "code",
   "execution_count": 127,
   "metadata": {},
   "outputs": [],
   "source": [
    "# Take sample of 10 and try to match the regex\n",
    "tester_list = sample(filedir, 10)"
   ]
  },
  {
   "cell_type": "code",
   "execution_count": 140,
   "metadata": {},
   "outputs": [],
   "source": [
    "match = []\n",
    "for ballot in filedir:\n",
    "    # read file\n",
    "    fp = os.path.join('Data', ballot)\n",
    "    file = open(fp, 'r')\n",
    "    ballot_text = file.read()\n",
    "    \n",
    "    # use regex to match the first instance of regex, then read the next 500 words.\n",
    "    regex_match = re.search(pattern, ballot_text)\n",
    "    \n",
    "    # if regex matched\n",
    "    if regex_match:\n",
    "        ballot_text = ballot_text[regex_match.end():]\n",
    "        # cleaning text\n",
    "        for char in ['-','\\n']:\n",
    "            ballot_text = ballot_text.replace(char,' ')\n",
    "            \n",
    "        ballot_split = ballot_text.split()\n",
    "        # debugger, ignore : print(ballot + \" is this long: \" + str(len(ballot_split)))\n",
    "        # Some matches won't have 500 characters following\n",
    "        if len(ballot_split) <= 500:\n",
    "            ballot_processed = \" \".join(ballot_split[:(len(ballot_split) - 1)])\n",
    "        else:\n",
    "            ballot_processed = \" \".join(ballot_split[:500])\n",
    "        \n",
    "        # add to list\n",
    "        match.append((ballot, ballot_processed))\n",
    "    else:\n",
    "        match.append((ballot, 'NO MATCH'))\n",
    "    file.close()"
   ]
  },
  {
   "cell_type": "code",
   "execution_count": 143,
   "metadata": {},
   "outputs": [
    {
     "name": "stdout",
     "output_type": "stream",
     "text": [
      "We matched 79.10787437414656% of the docs!\n"
     ]
    }
   ],
   "source": [
    "pct_matched = len([i for i in match if i[1] != 'NO MATCH'])/len(match)\n",
    "print('We matched ' + str(pct_matched*100) + \"% of the docs!\")"
   ]
  },
  {
   "cell_type": "code",
   "execution_count": 34,
   "metadata": {},
   "outputs": [
    {
     "data": {
      "text/plain": [
       "[]"
      ]
     },
     "execution_count": 34,
     "metadata": {},
     "output_type": "execute_result"
    }
   ],
   "source": [
    "re.findall(pattern_1, match[3][1])"
   ]
  },
  {
   "cell_type": "code",
   "execution_count": null,
   "metadata": {},
   "outputs": [],
   "source": []
  }
 ],
 "metadata": {
  "kernelspec": {
   "display_name": "Python 3",
   "language": "python",
   "name": "python3"
  },
  "language_info": {
   "codemirror_mode": {
    "name": "ipython",
    "version": 3
   },
   "file_extension": ".py",
   "mimetype": "text/x-python",
   "name": "python",
   "nbconvert_exporter": "python",
   "pygments_lexer": "ipython3",
   "version": "3.6.7"
  }
 },
 "nbformat": 4,
 "nbformat_minor": 2
}
