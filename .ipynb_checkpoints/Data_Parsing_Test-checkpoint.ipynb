{
 "cells": [
  {
   "cell_type": "markdown",
   "metadata": {},
   "source": [
    "# Data Parsing Notebook "
   ]
  },
  {
   "cell_type": "code",
   "execution_count": 27,
   "metadata": {},
   "outputs": [],
   "source": [
    "# standard imports, add as needed\n",
    "import pandas as pd\n",
    "import numpy as np\n",
    "import os\n",
    "import re"
   ]
  },
  {
   "cell_type": "markdown",
   "metadata": {},
   "source": [
    "## Let's see if we can figure out one section from this document, summary\n",
    "### This won't be incredibly useful for the overall application, but it'll help set a baseline"
   ]
  },
  {
   "cell_type": "code",
   "execution_count": 28,
   "metadata": {},
   "outputs": [],
   "source": [
    "fp = os.path.join('Data Cleaning', 'test.txt') # The actual data is Measure H in Yolo county, from 2018.\n",
    "\n",
    "# Create an empty string to append the string data to\n",
    "str_summary = ''\n",
    "\n",
    "# Let's try and get the summary from this document!\n",
    "with open(fp, 'r') as file:\n",
    "    '''\n",
    "    Opening a file here creates an iterator, which imagines each line of the text as its own entity. In the for loop,\n",
    "    we look at each line in the file and do nothing until we see CITY ATTORNEY'S... in a line, then continue from there\n",
    "    and add each line of data to our str_summary string.\n",
    "    '''\n",
    "    for line in file:\n",
    "        if \"CITY ATTORNEY'S IMPARTIAL ANALYSIS\" in line: \n",
    "            for line in file:\n",
    "                str_summary +=(line)\n",
    "                if '/s/' in line:\n",
    "                    break # exits the for loop\n",
    "                    \n",
    "file.close() # close file"
   ]
  },
  {
   "cell_type": "code",
   "execution_count": 29,
   "metadata": {},
   "outputs": [
    {
     "name": "stdout",
     "output_type": "stream",
     "text": [
      "MEASURE H\n",
      "\n",
      "Measure H, if approved by two-thirds of the voters voting on the measure, will renew the Park Maintenance Tax,\n",
      "a special tax adopted by the Davis voters in 1998 and renewed in 2002, 2006 and 2012. Unless renewed by the\n",
      "voters, the existing Park Maintenance Tax will expire on June 30,2018. If Measure H is adopted, it will renew the Park\n",
      "Maintenance Tax beginning July 1, 2018 continuing through June 30,2038. This measure was placed on the ballot\n",
      "by the City Council.\n",
      "\n",
      "Measure H, the Park Maintenance Tax, as set forth in Ordinance No. 2521, will continue funding for the maintenance\n",
      "and operation of community parks, greenbelts, open space, street lighting, swimming pools, and related public facilities.\n",
      "As a special tax, the tax revenue must be placed in a special fund and can only be used for these purposes and\n",
      "incidental expenses related to these purposes. The City Council is required to designate one or more city commissions\n",
      "to annually review expenditures of Park Maintenance Tax funds and proposed expenditures for the next fiscal year.\n",
      "Each designated commission will make recommendations to the City Council for use of the tax revenues by the City,\n",
      "within the allowable Park Maintenance Tax purposes.\n",
      "\n",
      "^ If approved by the voters, the Park Maintenance Tax will continue to be imposed on parcels of property within the\n",
      "City based on the use of the property. For fiscal year 2018-2019, the maximum annual (Julyl -June 30) tax rates will\n",
      "be:\n",
      "\n",
      "Single-family residential\t$49.00 per unit\n",
      "Multi-family residential\t$49.00 per unit\n",
      "Group Living\t$20.00 per resident\n",
      "Commercial\t$40.00 per 1,000 square feet of Improved Building Space up to a maximum of 10,000 square feet\n",
      "Industrial\t$12.80 per employee up to a maximum of 30 employees\n",
      "Commercial Day Care Facilities\t$14.30 per 1,000 square feet of Improved Building Space up to a maximum of 10,000 square feet\n",
      "Vacant Land\t$49.00 per Assessor’s Parcel\n",
      "\n",
      "Starting for fiscal year 2019-20 and each fiscal year thereafter, the maximum tax rates will be increased on July\n",
      "1 by two percent (2%). For each fiscal year the City Council will set the actual tax rate, which may be lower than the\n",
      "maximum tax rate. The tax rate in any year cannot exceed that year’s maximum tax rate.\n",
      "\n",
      "Measure H contains several exemptions to the tax including an exemption for public property and the requirement\n",
      "to continue the existing low income refund program.\n",
      "\n",
      "The Park Maintenance Tax would continue to be collected with the ad valorem property taxes for each parcel,\n",
      "unless the City later decided to collect the tax with other City taxes and charges.\n",
      "\n",
      "Measure H would sunset and be repealed on June 30, 2038, and could not be collected after that time unless\n",
      "two-thirds of the voters voting in an election approved an extension or re-authorization of the tax.\n",
      "\n",
      "/s/ Harriet A. Steiner\n",
      "\n"
     ]
    }
   ],
   "source": [
    "# We use print here because else, we'll have all these weird \\n (which signal newlines)\n",
    "print(str_summary)"
   ]
  },
  {
   "cell_type": "markdown",
   "metadata": {},
   "source": [
    "## Things to Note:\n",
    "- Looks like the \"IMPARTIAL ANALYSIS\" bit is consistent through the counties, problem is sometimes there's more than one in the document (not too big of a problem) and the statements before and after vary\n",
    "- A signature usually signifies the end of a summary, so that might be something to consider\n",
    "- Maybe reading the entire file into a string and using regex would work better than iterating through the entire file"
   ]
  },
  {
   "cell_type": "code",
   "execution_count": 30,
   "metadata": {},
   "outputs": [],
   "source": [
    "# Create an empty string to append the string data to\n",
    "test_str = ''\n",
    "\n",
    "# Let's try and get the summary from this document!\n",
    "with open(fp, 'r') as file:\n",
    "    for line in file:\n",
    "        test_str +=(line)\n",
    "                    \n",
    "file.close() # close file"
   ]
  },
  {
   "cell_type": "code",
   "execution_count": 31,
   "metadata": {},
   "outputs": [
    {
     "data": {
      "text/plain": [
       "'\\ufeffCITY OF DAVIS MEASURE H\\t\\nShall Ordinance 2521, which renews the existing Park Maintenance Tax of $49 per year on residential units and on non-residential units in amounts specified in the Ordinance, for 20 years, adds an annual 2% inflator, and is expected to generate $1.4 million in the first year to fund maintenance of parks, street trees, greenbelts, bike paths, medians, public landscaping, urban wildlife and habitat, swimming pools, and public recreational facilities, be adopted?\\tYES\\n\\tNO\\n\\nCITY ATTORNEY\\'S IMPARTIAL ANALYSIS OF\\nMEASURE H\\n\\nMeasure H, if approved by two-thirds of the voters voting on the measure, will renew the Park Maintenance Tax,\\na special tax adopted by the Davis voters in 1998 and renewed in 2002, 2006 and 2012. Unless renewed by the\\nvoters, the existing Park Maintenance Tax will expire on June 30,2018. If Measure H is adopted, it will renew the Park\\nMaintenance Tax beginning July 1, 2018 continuing through June 30,2038. This measure was placed on the ballot\\nby the City Council.\\n\\nMeasure H, the Park Maintenance Tax, as set forth in Ordinance No. 2521, will continue funding for the maintenance\\nand operation of community parks, greenbelts, open space, street lighting, swimming pools, and related public facilities.\\nAs a special tax, the tax revenue must be placed in a special fund and can only be used for these purposes and\\nincidental expenses related to these purposes. The City Council is required to designate one or more city commissions\\nto annually review expenditures of Park Maintenance Tax funds and proposed expenditures for the next fiscal year.\\nEach designated commission will make recommendations to the City Council for use of the tax revenues by the City,\\nwithin the allowable Park Maintenance Tax purposes.\\n\\n^ If approved by the voters, the Park Maintenance Tax will continue to be imposed on parcels of property within the\\nCity based on the use of the property. For fiscal year 2018-2019, the maximum annual (Julyl -June 30) tax rates will\\nbe:\\n\\nSingle-family residential\\t$49.00 per unit\\nMulti-family residential\\t$49.00 per unit\\nGroup Living\\t$20.00 per resident\\nCommercial\\t$40.00 per 1,000 square feet of Improved Building Space up to a maximum of 10,000 square feet\\nIndustrial\\t$12.80 per employee up to a maximum of 30 employees\\nCommercial Day Care Facilities\\t$14.30 per 1,000 square feet of Improved Building Space up to a maximum of 10,000 square feet\\nVacant Land\\t$49.00 per Assessor’s Parcel\\n\\nStarting for fiscal year 2019-20 and each fiscal year thereafter, the maximum tax rates will be increased on July\\n1 by two percent (2%). For each fiscal year the City Council will set the actual tax rate, which may be lower than the\\nmaximum tax rate. The tax rate in any year cannot exceed that year’s maximum tax rate.\\n\\nMeasure H contains several exemptions to the tax including an exemption for public property and the requirement\\nto continue the existing low income refund program.\\n\\nThe Park Maintenance Tax would continue to be collected with the ad valorem property taxes for each parcel,\\nunless the City later decided to collect the tax with other City taxes and charges.\\n\\nMeasure H would sunset and be repealed on June 30, 2038, and could not be collected after that time unless\\ntwo-thirds of the voters voting in an election approved an extension or re-authorization of the tax.\\n\\n/s/ Harriet A. Steiner\\nDavis City Attorney\\n\\n--------------------------------------------------------------------------------------------------fliiiii\\n\\n23\\t57/21\\n\\nARGUMENT IN FAVOR OF\\nMEASURE H\\n\\nIn 1998, the citizens of Davis first approved a $49 parks\\ntax, which has been successfully renewed over the years.\\nMeasure H will renew this existing tax, allowing the City\\nto continue to fund parks maintenance, including family\\nparks, greenbelt maintenance, open space and habitat\\nmaintenance, tree planting and maintenance, recreational\\nprograms and facilities, and vandalism repair.\\n\\nREBUTTAL TO ARGUMENT IN FAVOR OF\\nMEASURE H\\n\\nOur City is claiming that our financial problems are all\\nbecause the State is not giving them as much money as\\nbefore. They state, \"At\\tthe beginning of the last decade,\\n\\nthe state returned about 27% of local property taxes to\\nour city. Today, approximately 18% is returned. The State\\nannually has shifted a total of over $3 million in property\\ntax from the City\".\\n\\nThis is the same tax rate the voters first approved twenty\\nyears ago, and has been renewed multiple times since.\\nThe current tax expires in June of 2018.\\n\\nThis tax generates $1.4 million in annual revenue, used\\nto offset parks maintenance costs. In 1998, this funding\\nsource generated 75% of park maintenance costs. Today\\nit covers 18% of this cost, which is why small inflator is\\nincluded (not to exceed 2% annually). Since 1998, we\\'ve\\nseen total park acreage grow by one third.\\n\\nMeanwhile, for more than a decade, the state has been\\nshifting a large share of our local property taxes away\\nfrom our city. At the beginning of the last decade, the\\nstate returned about 27% of local property taxes to our\\ncity. Today, approximately 18% is returned. The state has\\nshifted more than $3 million in property tax revenue away\\nfrom our city.\\n\\nOur city has seen its share of fiscal uncertainty, but\\neconomic development efforts to generate revenue\\nare underway, as well as continued efforts to prudently\\nmanage city costs.\\n\\nFunny thing...this is the exact same language used the\\nCity\\'s ballot argument for the Parks Tax Measure when\\nit was last renewed 6 years ago in 2012. Some things\\nnever change!\\n\\nOnly now the City is also claiming it is continuing \"efforts\\nto prudently manage city costs\". Not true! For example,\\nthe average total annual compensation of our Park\\nMaintenance II workers has risen from $66,412 in 2012\\nto $83,745 in 2016 — a 26% increase. So much for\\nprudently managing costs!\\n\\nAdditionally, our last Parks Tax Measure renewal was for 6\\nyears. But the City is now asking us to approve a 20-year\\nrenewal...and with no built-in accountability. Every bit of\\nthis Parks Tax Measure and other Parks budget money\\ncan be legally diverted for other uses in the City and the\\ncitizens footing the bill have no legal recourse. Do you\\ntrust our government to spend your tax money wisely\\nfor the next 20-years?\\n\\nWe all have household budgets that we are forced to live\\nwithin. Our City government must learn to do the same.\\n\\ni\\n\\n<\\n\\nThink for a moment about the reasons you enjoy living\\nin Davis. Surely, among them is our amazing parks and\\ngreenbelt system, and our many recreational opportunities,\\nprograms and services. Without Measure H, these\\nessential civic and cultural amenities, along with other\\nGeneral Fund services, risk severe cutbacks.\\n\\nPlease join us in voting Yes on Measure H.\\n\\n/s/ Brett Lee, Mayor Pro Tern, City of Davis\\n\\nPlease Vote No on Measure H\\nwww.DavisTaxProtestVote. Com\\n\\n/s/ Michael Nolan\\n\\nActing President of Yolo County Taxpayers Association\\n\\n/s/ John Munn\\n\\nFormer Member of the Board of Education of the\\nDavis Joint Unified School District\\n\\n/s/ Lucas Frerichs, Councilmember\\n/s/ Robert Davis, Mayor, City of Davis\\nIs/ Rochelle Harry Swanson, Councilmember\\nIs/ Will Arnold, City Councilmember\\n\\nIs/ Don Price\\n\\nEmeritus Professor of History,\\nUniversity of California Davis\\n\\nIs/ PamNieberg\\n\\nFormer Co-Chair, Yes on Measure 0\\n(City of Davis Open Space Ordinance)\\n\\n\\n\\nARGUMENT AGAINST\\nMEASURE H\\n\\nDavis does not have a revenue problem in maintaining\\nour beloved Parks. Davis has an employee spending\\nproblem! Forfar too long Davis voters have approved tax\\nincreases, ostensibly for maintaining critical City functions,\\nonly to see the new revenues instead go to increased\\nemployee compensation.\\n\\n•\\tIn 2004, the voters approved a half cent sales tax\\nincrease after being told it was necessary to keep\\nfrom laying off police and firefighters. Yet the very\\nnext year, all of that money and more was used to\\ngive employees the biggest pay increases in\\nCity history. Firefighters received a 36% increase\\nover 4 years and our average firefighter total\\ncompensation is now over $206,000 annually!\\n\\n•\\tIn 2012, voters approved a $49 parcel tax for Parks\\nand then another half cent sales tax increase in\\n2016. Where did all that money go? Well, from\\n2012 to 2016 the average total salary and benefits\\nfor all full-time City employees increased\\nover 25% from $99,849 to $124,954 (Source:\\nwww.TransDarentCalifornia.ora1. Current average\\nmunicipal employee salaries are now more than\\ntwice that of the private sector in Davis.\\n\\nBut the City government has done virtually nothing to\\ncontrol employee compensation which now totals almost\\n$38 million annually for just over 300 employees. The\\nFinance and Budget Commission, our watchdog citizen\\ncommission, recommended over 2 years ago that before\\nany new tax measures are put on the ballot the City should,\\n\\n“Work to accelerate the completion of a full staffing\\nanalysis to determine match between service delivery\\nneeds and staffing.... This should save $1 million per\\nyear in employee costs\".\\n\\nYet this simple study was never even done! We clearly\\ncannot trust our City government to otherwise spend our\\nhard-earned money wisely for the 20-year duration of\\nthis tax.\\n\\nPlease vote “NO” on Measure H.\\nwww.DavisTaxProtestVote. com\\n\\n/s/ Michael Nolan\\n\\nActing President of Yolo County Taxpayers Association\\n\\n/s/ John Munn\\n\\nFormer President of the Board of Education of the\\nDavis Joint Unified School District\\n\\n/s/ Don Price\\n\\nEmeritus Professor of History,\\n\\nUniversity of California Davis\\n\\n/s/ Pam Nieberg\\n\\nFormer Co-Chair, Yes on Measure O\\n(City of Davis Open Space Ordinance)\\n\\nREBUTTAL TO ARGUMENT AGAINST\\nMEASURE H\\n\\nTwenty years ago, Davis voters first passed a $49 parks\\ntax. The city is now asking for a simple renewal of this tax\\nat the same rate.\\n\\nOver the years, our parks and recreation services have\\nexpanded and become more inclusive, our park acreage\\nhas increased by one-third, all the while the funding we\\nreceive from the state has significantly diminished.\\n\\nFor that reason, some have argued that the parks tax\\nshould be increased. But the city is taking the conservative\\napproach and asking for the same $49 per year.\\n\\nWe believe 13 cents per day is a small price to pay to\\nhelp maintain our neighborhood parks and playgrounds,\\nour greenbelts and walking paths, and our recreational\\nfacilities and programs.\\n\\nThese essential city services, and the positive impact they\\nhave on our community, and our home values, cannot be\\noverstated.\\n\\nIn 1998, the original parks tax was described as “vital if\\nthe city is to continue to provide the quality of life Davis\\nresidents expect\" by former Mayors Vigfus Asmundson\\nand Julie Partansky, who signed the ballot statement\\nin favor. Two decades later, this essential truth has not\\nchanged.\\n\\nOur parks and recreation services remain vital to our\\ncommunity - and deserve our continued support.\\n\\nOn June 5, please join us in supporting our parks, and\\nvoting Yes on Measure H.\\n\\n/s/ Helen M. Thomson\\n\\nRetired State Assemblymember\\n\\n/s/ Bruce Gallaudet\\n\\nRetired, Davis Enterprise\\n\\n/s/ Robin Dewey\\n\\nPresident, Team Davis\\n\\n/s/ J. D. Denton\\n\\nRetired Business Owner\\n\\n/s/ Emily Griswold\\n\\nFormer Chair, City of Davis Recreation\\nand Park Commission\\n\\n5 7/23\\n\\n\\n\\n■OHM\\n\\nJr\\n\\nMEASURE H\\n\\nORDINANCE NO. 2521\\n\\nORDINANCE OF THE CITY OF DAVIS AMENDING ARTICLE 15.14 OF CHAPTER 15 OF THE DAVIS MUNICIPAL\\nCODE RENEWING AND AMENDING A PARK MAINTENANCE TAX TO FUND MAINTENANCE OF PARKS,\\nSTREET TREES, GREENBELTS, BIKE PATHS, MEDIANS, PUBLIC LANDSCAPING, URBAN WILDLIFE\\nAND HABITAT, SWIMMING POOLS, AND PUBLIC RECREATIONAL FACILITIES TO ADD A TWO PERCENT\\nINFLATOR TO THE MAXIMUM TAX RATE BEGINNING JULY 1,2019 AND TO EXTEND THE TERM OF THE TAX\\n\\nTO 2038 SUBJECT TO THE APPROVAL OF THE VOTERS\\n\\nBE IT ORDAINED BY THE CITY COUNCIL OF THE CITY OF DAVIS, as follows:\\n\\nSECTION 1. Article 15.14 of Chapter 15 of the Davis City Code is hereby amended to read as follows:\\n\\nARTICLE 15.14\\nPARK MAINTENANCE TAX\\n\\n15.14.010 Findings.\\n\\n15.14.020 Legal Authority.\\n\\n15.14.030 Definitions.\\n\\n15.14.040 Park Maintenance Tax.\\n\\n15.14.050 Collection.\\n\\n15.14.060 Annual Adjustment of Tax Rate\\n15.14.070 Limitation on Disposition of Revenue.\\n\\n15.14.080 Exemptions.\\n\\n15.14.090\\tEffective Date; Renewal Provision.\\n\\n15.14.100 Appeals.\\n\\n15.14.105\\tAnnual Review of Expenditures by City Advisory Commission(s).\\n15.14.110 Severability.\\n\\n15.14.010. Findings.\\n\\nThe Park Maintenance Tax currently provides funding to supplement the General Fund for the maintenance\\nof community parks, greenbelts, open space, street lighting, swimming pools, and related public recreational\\nfacilities. The Park Maintenance Tax, which was approved by the voters in 1998,2002,2006 and again in 2012 will\\nexpire in June of 2018. The further renewal of this special tax, if approved by an affirmative vote of two-thirds of\\nDavis voters, will continue the Park Maintenance Tax for an additional twenty (20) years to provide funding for the\\nmaintenance of these facilities and amenities.\\n\\nOur parks and greenbelts reflect the very character of Davis and are instrumental in making Davis the type of\\ncommunity that its citizens appreciate and support. The City Council strongly believes that it is in the public\\ninterest to continue funding maintenance of the parks, greenbelts, open space, street lighting, swimming pools,\\nand public recreational facilities. The special tax renewed and levied herein, if approved by a two-thirds vote of\\nthe voters, will continue the existing Park Maintenance Tax for the next twenty years thereby providing a stable\\nrevenue source that will continue to pay for a portion of the cost of park maintenance and also adding an annual\\ntwo percent adjustment to the amount of the tax to assist in accounting for annual inflation.\\n\\n15.14.020. Legal Authority.\\n\\nThis special tax is levied under each of the following legal authorities: Government Code section 37100.5, which\\nauthorizes general law cities to levy any tax that may be levied by charter cities, subject to voter approval; and\\nGovernment Code section 50075 through section 50077, which authorizes cities to impose special taxes. This tax\\nis a special tax authorized under Article 13A, section 4 of the California Constitution and Proposition 218. This tax\\nis an excise tax and is based, to the extent practicable, upon the use to which a property is put and the benefit that\\nthe use of property receives from the public recreational facilities supported by this tax. This tax is based, among\\nother things, on the benefit that different land uses of property receive from the availability of properly maintained\\nparks, open space, greenbelts, medians, public recreational facilities, and public lighting. This tax is not a property\\ntax; it is not based on the status of ownership of property; nor is it based on the value of property.\\n\\n5 7/2*\\n\\n26\\n\\n)\\n\\n15.14.030. Definitions.\\n\\nThe following terms shall have the following definitions when used in this article:\\n\\n\"Assessor\\'s parcel\" or \\'parcel\" means a lot or parcel shown in an assessor\\'s parcel map with an assigned\\nassessor\\'s parcel number.\\n\\n\"Assessor\\'s parcel map\" means an official map of the county assessor of the county of Yolo designating\\nparcels by assessor\\'s parcel number.\\n\\n“City\" means the city of Davis as its jurisdictional boundaries exist on July 1st of each year that this tax is\\nin effect.\\n\\n\"Commercial property\" means all parcels that are used for nonresidential land uses that do not classify the\\nparcel as industrial property or day care property, as defined below.\\n\\n\"Common area\" means a separate legal or assessor\\'s parcel owned by a common interest development\\nassociation or as tenants in common by the owners of separate interests in a common interest development\\nprovided that the common area: (1) in the case of residential property, cannot be used as an independent\\nresidential dwelling unit; or (2) in the case of commercial or industrial property is not improved building\\nspace.\\n\\n\"Day care property\" means all property that is used as a commercially operated day care center and is not\\nused as a residence.\\n\\n\"Developed property\" means, in any fiscal year, all parcels of taxable property with a structure that has\\nbeen cleared for occupancy before March 1 st of the prior fiscal year. For purposes of levying the special\\ntax, each parcel of developed property shall be assigned to one of the land use classes identified in Table\\n1 below.\\n\\n\"Fiscal year\\' means the period starting on July 1 and ending the following June 30th.\\n\\n\"Group living property\" means all parcels of developed property that have been issued conditional use\\npermits from the city’s planning division for a group living use.\\n\\n\"Improved building space” means the greater of (i) gross building area as shown on building permits issued\\nfor any property, or (ii) gross building area as measured or determined by an engineer retained by the city.\\n\\n“Industrial property\" shall generally include but not be limited to, all parcels of developed property with\\na building or structure that is used for assembling, disassembling, fabricating, finishing, manufacturing,\\npackaging, repair or processing operations, as classified by the city\\'s planning division.\\n\\n\"Land use class\" means any one of the six classes listed in Table 1 below.\\n\\n\"Maximum special tax\" means the maximum special tax, determined in accordance with Section 15.14.050,\\nthat can be levied by the City Council in any fiscal year.\\n\\n\"Multifamily residential property\" means all parcels of developed property with a residential structure or\\nstructures consisting of five or more residential units on a single parcel.\\n\\n\"Public improvements” means those facilities, improvements, and amenities that will be constructed,\\ninstalled, operated, serviced, maintained, and repaired from proceeds of the special tax and shall include,\\nbut not be limited to, the following: public lighting, landscaping, parks, public areas, public recreational\\nfacilities, open space, and bike trails.\\n\\n“Public property\" means property owned by a public agency, public rights-of-way, unoccupied public\\nutility property and property encumbered with a public or utility easement that makes impractical utilization\\nof the property for other than the public or utility purpose set forth in the easement.\\n\\n\"Single-family residential property\" means all parcels of developed property with a residential structure or\\nstructures consisting of less than five residential units on a single parcel.\\n\\n\"Special tax\" means that tax levied pursuant to application of the special tax formula set forth below to pay\\nfor the construction, installation, operation, servicing, maintenance, and repair of the public improvements.\\n\\n\"Taxable property\" means all assessor\\'s parcels within the city as the boundaries of the city exist on July\\n1 st of each year which are not exempt from the special tax pursuant to law or section 15.14.090 below.\\n\\n\"Vacant land\" means ail parcels of taxable property that have either no structures or a structure or structures\\nthat have not been cleared for occupancy.\\n\\nmm\\n\\n5 7/25\\n\\n15.14.040. Park Maintenance Tax.\\n\\na. If approved by the voters, commencing July 1, 2018 for fiscal year 2018-2019, the city shall continue\\ncollecting funding for parks, open space, public lighting and related public recreational facilities in the\\nform of a special park tax in the manner and at the rates set forth herein.\\n\\n1. Developed Property. The maximum special tax for all parcels of developed property shall be\\ndetermined by reference to Table 1 below:\\n\\nTable 1\\tMaximum Special Tax Rates\\t\\nLand Use Class\\tDescription\\tMaximum Special Tax\\n1\\tSingle-family residential\\t$49.00 per unit\\n2\\tMultifamily residential\\t$49.00 per unit\\n3\\tGroup living\\t$20.00 per resident\\n4\\tCommercial\\t$40.00 per 1,000 square feet of Improved Building Space up to a maximum of 10,000 square feet\\n5\\tIndustrial\\t$12.80 per employee up to a maximum of 30 employees\\n6\\tDay care\\t$14.30 per 1,000 square feet of Improved Building Space up to a maximum of 10,000 square feet\\n\\n2. Vacant Land. The maximum special tax rate for vacant land shall be forty-nine dollars per assessor\\'s\\nparcel.\\n\\nb. Method of Apportionment of the Special Tax.\\n\\n1.\\tFor fiscal year 2018-2019, the City shall levy the special tax at the maximum tax rates set forth\\nabove. For fiscal years 2019-2020 and each fiscal year thereafter, the maximum tax rate shall be\\nincreased at the beginning of each fiscal year by two percent (2%). For each fiscal year beginning\\nwith the 2019-20 fiscal year, the City Council shall set the actual tax rate for the applicable fiscal\\nyear, not to exceed the maximum tax rates set forth above as adjusted as set forth in this section\\nand in section 15.14.060. and the special tax shall be levied at the amount set by the City Council.\\n\\n2.\\tThe special tax shall be levied on each parcel of land in the amount determined by reference to this\\nSection 15.14.040:\\n\\nA.\\tOn each parcel of taxable property in Land Use Classes 1 through 6, inclusive.\\n\\nB.\\tIf there is more than one land use class on a parcel, the special tax shall be determined by\\nseparately applying the appropriate special tax for each land use class on the parcel and levying\\nthe sum total of the combined special taxes.\\n\\n15.14.050. Collection.\\n\\nThe park maintenance tax shall be collected in the same manner and at the same time as ordinary ad valorem\\nproperty taxes and shall be subject to the same penalties for non-payment. If necessary to meet financial obligations\\nor if it becomes more cost-efficient as determined by the City Council, the City may collect the park maintenance\\ntax in the same manner and at the same time as City taxes, fees and/or charges provided that the total annual tax\\nimposed shall not exceed the maximum amounts set forth in this article.\\n\\n15.14.060. Annual Adjustment of Tax Rate\\n\\nThe maximum allowable tax rate shall be increased annually beginning July 1,2019, by two percent (2%) per year\\nunless modified or changed by a further vote of the electorate of the City. There shall be no other cost of living or\\nCOLA permitted.\\n\\n15.14.070. Limitation on Disposition of Revenue.\\n\\nRevenues collected under the provisions of this article shall be deposited in a special fund called the park maintenance\\nspecial tax fund and shall be used only for the operation and maintenance of landscaping, park, open space,\\nmedian, greenbelt, swimming pools, public recreational facilities and public lighting improvements, within the City\\nand for the incidental expenses incurred in the administration of this tax, including, but not limited to the cost of\\nelections, and the cost of collection.\\n\\n\\n\\n15.14.080. Exemptions.\\n\\na.\\tPublic Property. No special tax shall be levied against public property.\\n\\nb.\\tLow Income Exemption. To avoid undue hardship, the City Council shall continue the existing low-income\\nrefund program subject to such terms and conditions as the City Council may, from time to time, determine.\\n\\nc.\\tCommon Areas. No special tax shall be levied against common areas.\\n\\n15.14.090. Effective Date: Renewal Provision.\\n\\na. This article shall take effect immediately upon its approval by a two-thirds vote of the voters voting in the\\nelection called to approve the ordinance.\\n\\nb. If an extension or re-authorization of this article is approved by the voters of the City at an election called\\nfor that purpose by or on June 30,2038, this article shall be extended or re-authorized. If this article is not\\nso extended or re-authorized by the voters, this article shall no longer be in effect.\\n\\n15.14.100. Appeals.\\n\\nThe imposition of this tax and/or amount of the tax imposed based on the use of property may be appealed to the\\nCity Council under such procedures as the council shall, by ordinance, adopt. The City Council may modify the\\nappeals process from time to time in order to facilitate the hearing and resolution of appeals.\\n\\n15.14.105\\tAnnual Review of Expenditures bv City Advisory CommissionfeL\\n\\nTo promote the efficient and effective use of the special tax revenues, the City Council shall designate a commission\\nor commissions to review the expenditures of funds collected though this special tax and the proposed expenditures\\nfor the next fiscal year. Each designated commission shall make recommendations to the City Council to be used\\nduring the City’s budgeting process and to assist City staff and the City Council in proposing and approving the\\nprojects that will be funded, in whole or in part, through this special tax. The Council may, from time to time, modify\\nthe commission® that will perform this annual review and the Council may also request other city committees or\\ncommissions to also review the prior or planned expenditures of revenues from this special tax.\\n\\n15.14.110. Severability.\\n\\nIf any sentence, clause, article, section, subsection, phrase or portion of this Ordinance is for any reason held to be\\ninvalid, such decision shall not affect the validity of the remaining portion of this ordinance. The voters of the City\\nhereby declare that they would have adopted the remainder of this Ordinance, including each sentence, clause,\\narticle, section, subsection, phrase or portion of this Ordinance, irrespective of the invalidity of any other sentence\\nclause, article, section, subsection, phrase or portion of this ordinance.\\n\\nINTRODUCED by the City Council of the City of Davis this 6th day of February, 2018, by the following vote:\\n\\nAYES: Arnold, Frerichs, Lee, Swanson, Davis\\nNOES: None\\n\\nATTEST:\\n\\n/s/ Robb Davis\\nMayor\\n\\n/s/ Zoe S. Mirabile, CMC\\nCity Clerk\\n\\nThis ordinance shall be deemed PASSED AND ADOPTED only upon its approval by a two-thirds vote of the voters\\nvoting in the General Municipal Election on June 5, 2018.\\n\\nPASSED______ NOT PASSED.'"
      ]
     },
     "execution_count": 31,
     "metadata": {},
     "output_type": "execute_result"
    }
   ],
   "source": [
    "test_str"
   ]
  },
  {
   "cell_type": "code",
   "execution_count": 24,
   "metadata": {},
   "outputs": [
    {
     "data": {
      "text/plain": [
       "[]"
      ]
     },
     "execution_count": 24,
     "metadata": {},
     "output_type": "execute_result"
    }
   ],
   "source": [
    "re.findall(\"CITY ATTORNEY\\\\'S IMPARTIAL ANALYSIS OF(\\\\n)?( )?MEASURE [a-z](\\\\n)?.*?\\/s\\/\", test_str, flags=re.IGNORECASE)"
   ]
  },
  {
   "cell_type": "code",
   "execution_count": 25,
   "metadata": {},
   "outputs": [],
   "source": [
    "regex = r\"CITY ATTORNEY\\\\'S IMPARTIAL ANALYSIS OF(\\\\n)?( )?MEASURE [a-z](\\\\n)?.*?\\/s\\/\"\n",
    "\n",
    "matches = re.finditer(regex, test_str, re.MULTILINE | re.IGNORECASE)\n",
    "\n",
    "for matchNum, match in enumerate(matches, start=1):\n",
    "    \n",
    "    print (\"Match {matchNum} was found at {start}-{end}: {match}\".format(matchNum = matchNum, start = match.start(), end = match.end(), match = match.group()))\n",
    "    \n",
    "    for groupNum in range(0, len(match.groups())):\n",
    "        groupNum = groupNum + 1\n",
    "        \n",
    "        print (\"Group {groupNum} found at {start}-{end}: {group}\".format(groupNum = groupNum, start = match.start(groupNum), end = match.end(groupNum), group = match.group(groupNum)))\n"
   ]
  },
  {
   "cell_type": "code",
   "execution_count": null,
   "metadata": {},
   "outputs": [],
   "source": []
  }
 ],
 "metadata": {
  "kernelspec": {
   "display_name": "Python 3",
   "language": "python",
   "name": "python3"
  },
  "language_info": {
   "codemirror_mode": {
    "name": "ipython",
    "version": 3
   },
   "file_extension": ".py",
   "mimetype": "text/x-python",
   "name": "python",
   "nbconvert_exporter": "python",
   "pygments_lexer": "ipython3",
   "version": "3.6.7"
  }
 },
 "nbformat": 4,
 "nbformat_minor": 2
}
